{
 "cells": [
  {
   "cell_type": "code",
   "execution_count": 5,
   "id": "878d77e9-de49-4c31-8487-56e88cd3e8d3",
   "metadata": {},
   "outputs": [
    {
     "name": "stdout",
     "output_type": "stream",
     "text": [
      "Mean: 5.454545454545454\n",
      "Median: 5\n",
      "Mode: 5\n",
      "Standard Deviation: 2.8762349126466136\n",
      "Variance: 8.272727272727273\n"
     ]
    }
   ],
   "source": [
    "import statistics\n",
    "data = [1, 2, 3, 4, 5, 5, 6, 7, 8, 9, 10]\n",
    "mean_value = statistics.mean(data)\n",
    "median_value = statistics.median(data)\n",
    "mode_value = statistics.mode(data)\n",
    "stdev_value = statistics.stdev(data)\n",
    "variance_value = statistics.variance(data)\n",
    "\n",
    "print(\"Mean:\", mean_value)\n",
    "print(\"Median:\", median_value)\n",
    "print(\"Mode:\", mode_value)\n",
    "print(\"Standard Deviation:\", stdev_value)\n",
    "print(\"Variance:\", variance_value)"
   ]
  },
  {
   "cell_type": "code",
   "execution_count": 5,
   "id": "005dbb1c-f209-43dc-8c0a-6127b7af5bc0",
   "metadata": {},
   "outputs": [
    {
     "name": "stdout",
     "output_type": "stream",
     "text": [
      "Mean: 5.454545454545454\n",
      "Median: 5\n",
      "Mode: 5\n",
      "Standard Deviation: 2.8762349126466136\n",
      "Variance: 8.272727272727273\n"
     ]
    }
   ],
   "source": [
    "\n",
    "\n"
   ]
  },
  {
   "cell_type": "code",
   "execution_count": 7,
   "id": "c4ac2077-0f13-44d5-a1be-fbc9a50981c7",
   "metadata": {},
   "outputs": [],
   "source": [
    "import statistics\n",
    "data = [1, 2, 3, 4, 5, 5, 6, 7, 8, 9, 10]"
   ]
  },
  {
   "cell_type": "code",
   "execution_count": 9,
   "id": "423802e5-dda7-48ee-9ba0-75a895dffa2f",
   "metadata": {},
   "outputs": [],
   "source": [
    "mean_value = statistics.mean(data)\n",
    "median_value = statistics.median(data)\n",
    "mode_value = statistics.mode(data)\n",
    "stdev_value = statistics.stdev(data)\n",
    "variance_value = statistics.variance(data)\n"
   ]
  },
  {
   "cell_type": "code",
   "execution_count": 11,
   "id": "345cc11a-c517-497c-bf1c-364d246f824b",
   "metadata": {},
   "outputs": [
    {
     "name": "stdout",
     "output_type": "stream",
     "text": [
      "Mean: 5.454545454545454\n",
      "Median: 5\n",
      "Mode: 5\n",
      "Standard Deviation: 2.8762349126466136\n",
      "Variance: 8.272727272727273\n"
     ]
    }
   ],
   "source": [
    "print(\"Mean:\", mean_value)\n",
    "print(\"Median:\", median_value)\n",
    "print(\"Mode:\", mode_value)\n",
    "print(\"Standard Deviation:\", stdev_value)\n",
    "print(\"Variance:\", variance_value)"
   ]
  },
  {
   "cell_type": "code",
   "execution_count": null,
   "id": "a1885371-44a4-4ae3-84c4-b99dbe25fb76",
   "metadata": {},
   "outputs": [],
   "source": []
  }
 ],
 "metadata": {
  "kernelspec": {
   "display_name": "Python [conda env:base] *",
   "language": "python",
   "name": "conda-base-py"
  },
  "language_info": {
   "codemirror_mode": {
    "name": "ipython",
    "version": 3
   },
   "file_extension": ".py",
   "mimetype": "text/x-python",
   "name": "python",
   "nbconvert_exporter": "python",
   "pygments_lexer": "ipython3",
   "version": "3.12.7"
  }
 },
 "nbformat": 4,
 "nbformat_minor": 5
}
